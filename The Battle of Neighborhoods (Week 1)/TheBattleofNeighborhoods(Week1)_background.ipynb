{
 "cells": [
  {
   "cell_type": "markdown",
   "metadata": {},
   "source": [
    "## Introduction"
   ]
  },
  {
   "cell_type": "markdown",
   "metadata": {},
   "source": [
    "### 1. Background"
   ]
  },
  {
   "cell_type": "markdown",
   "metadata": {},
   "source": [
    "East York, Etobicoke, North York, Scarborough, York, and Old Toronto are the 6 boroughs which combine together to form the City of Toronto. \n",
    "\n",
    "One of these boroughs, Etobicoke is home to several lakefront parks, golf courses, and vast Centennial Park, with a conservatory featuring tropical plants. The 1830s Montgomery’s Inn has a museum, tea room, and pub and hosts a weekly farmers’ market. Islington - City Centre West area is a busy commercial hub, containing shopping complexes and casual chain eateries, plus history-themed murals along Dundas Street West.\n",
    "\n",
    "Affordable housing has always been a problem in Toronto. Mr. X is very interested in buying a home in Etobicoke but is unsure about the neighbourhood. He has requested us to find and suggest the best neighbourhood suited as per his needs."
   ]
  },
  {
   "cell_type": "markdown",
   "metadata": {},
   "source": [
    "### 2. Business Problem"
   ]
  },
  {
   "cell_type": "markdown",
   "metadata": {},
   "source": [
    "Mr. X is interested in a neighbourhood that meets the below criteria:\n",
    "price should be around CAD 400000 to CAD 500000\n",
    "- nearby shopping centre\n",
    "- nearby restaurants and eateries\n",
    "- nearby park or green area\n"
   ]
  },
  {
   "cell_type": "markdown",
   "metadata": {},
   "source": [
    "We need to find a neighbourhood in Etobicoke which fulfills the above conditions and make our suggestions."
   ]
  },
  {
   "cell_type": "code",
   "execution_count": null,
   "metadata": {},
   "outputs": [],
   "source": []
  }
 ],
 "metadata": {
  "kernelspec": {
   "display_name": "Python",
   "language": "python",
   "name": "conda-env-python-py"
  },
  "language_info": {
   "codemirror_mode": {
    "name": "ipython",
    "version": 3
   },
   "file_extension": ".py",
   "mimetype": "text/x-python",
   "name": "python",
   "nbconvert_exporter": "python",
   "pygments_lexer": "ipython3",
   "version": "3.6.11"
  }
 },
 "nbformat": 4,
 "nbformat_minor": 4
}
