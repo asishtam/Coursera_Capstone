{
 "cells": [
  {
   "cell_type": "markdown",
   "metadata": {},
   "source": [
    "## Data Section"
   ]
  },
  {
   "cell_type": "markdown",
   "metadata": {},
   "source": [
    "The data needed for our analysis will be collected from various sources. "
   ]
  },
  {
   "cell_type": "markdown",
   "metadata": {},
   "source": [
    "#### 1. Toronto neighbourhood geo location and boundaries\n",
    "This dataset will help us identify the latitude and longitude for all the neighbourhood. Further we will use this data with Foursquare APIs to find nearby information.\n",
    "We are using the Toronto Open data catalogue to support or needs.\n",
    "\n",
    "Website url - https://open.toronto.ca/dataset/neighbourhoods/"
   ]
  },
  {
   "cell_type": "markdown",
   "metadata": {},
   "source": [
    "#### 2. Toronto Housing data\n",
    "The data came from various sources including Toronto Community Housing Corporation, City of Toronto's Shelter, Support and Housing Administration, City of Toronto Affordable Housing Office and Statistics Canada. Average Home Price data was taken from Realosophy.com.\n",
    "\n",
    "Website url - https://open.toronto.ca/dataset/wellbeing-toronto-housing/"
   ]
  },
  {
   "cell_type": "markdown",
   "metadata": {},
   "source": [
    "#### 3. Toronto borough-neighbourhood data\n",
    "This wiki page provides a list of postal codes in Canada where the first letter is M. Postal codes beginning with M are located within the city of Toronto in the province of Ontario.\n",
    "\n",
    "Website url - https://en.wikipedia.org/wiki/List_of_postal_codes_of_Canada:_M"
   ]
  },
  {
   "cell_type": "markdown",
   "metadata": {},
   "source": [
    "Before we can use this data for our analysis, it must be cleansed.  Once it is cleansed, we will use the data to:\n",
    "- find the neighbourhoods in Etobicoke\n",
    "- find the average house prices in each neighbourhood\n",
    "- using foursquare apis, compare each neighbourhood"
   ]
  },
  {
   "cell_type": "code",
   "execution_count": null,
   "metadata": {},
   "outputs": [],
   "source": []
  }
 ],
 "metadata": {
  "kernelspec": {
   "display_name": "Python",
   "language": "python",
   "name": "conda-env-python-py"
  },
  "language_info": {
   "codemirror_mode": {
    "name": "ipython",
    "version": 3
   },
   "file_extension": ".py",
   "mimetype": "text/x-python",
   "name": "python",
   "nbconvert_exporter": "python",
   "pygments_lexer": "ipython3",
   "version": "3.6.11"
  }
 },
 "nbformat": 4,
 "nbformat_minor": 4
}
